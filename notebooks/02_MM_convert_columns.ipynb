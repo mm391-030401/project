{
 "cells": [
  {
   "cell_type": "markdown",
   "metadata": {},
   "source": [
    "### Convert Columns\n",
    "In diesem Notebook wird die **interim** CSV \"data_added_features\" weiter bearbeitet, um sie in einen finalen Stand im Projekt verwenden zu können. Hierzu werden die Spaltenformate sowie -bezeichnungen angepasst."
   ]
  },
  {
   "cell_type": "markdown",
   "metadata": {},
   "source": [
    "#### Imports"
   ]
  },
  {
   "cell_type": "code",
   "execution_count": 18,
   "metadata": {},
   "outputs": [],
   "source": [
    "import pandas as pd"
   ]
  },
  {
   "cell_type": "markdown",
   "metadata": {},
   "source": [
    "#### Daten laden"
   ]
  },
  {
   "cell_type": "code",
   "execution_count": 19,
   "metadata": {},
   "outputs": [],
   "source": [
    "path_data = 'https://raw.githubusercontent.com/mm391-030401/project/refs/heads/main/data/interim/'\n",
    "file_data = 'data_added_features.csv'\n",
    "\n",
    "data = pd.read_csv(path_data + file_data, sep=',', encoding='utf-8')"
   ]
  },
  {
   "cell_type": "markdown",
   "metadata": {},
   "source": [
    "#### Überblick über die aktuellen Spalten"
   ]
  },
  {
   "cell_type": "code",
   "execution_count": 20,
   "metadata": {},
   "outputs": [
    {
     "name": "stdout",
     "output_type": "stream",
     "text": [
      "<class 'pandas.core.frame.DataFrame'>\n",
      "RangeIndex: 703 entries, 0 to 702\n",
      "Data columns (total 15 columns):\n",
      " #   Column                                    Non-Null Count  Dtype  \n",
      "---  ------                                    --------------  -----  \n",
      " 0   MONATE_SEIT_EINFUEHRUNG_PROGRAMM_KOHORTE  703 non-null    int64  \n",
      " 1   MONAT                                     703 non-null    int64  \n",
      " 2   monat_jahr                                703 non-null    int64  \n",
      " 3   monat_monat                               703 non-null    int64  \n",
      " 4   monat_jahreszeit                          703 non-null    object \n",
      " 5   KOHORTE                                   703 non-null    int64  \n",
      " 6   kohorte_jahr                              703 non-null    int64  \n",
      " 7   kohorte_monat                             703 non-null    int64  \n",
      " 8   kohorte_jahreszeit                        703 non-null    object \n",
      " 9   ERSTER_MONAT_KOHORTE_FG                   703 non-null    int64  \n",
      " 10  MONATE_SEIT_EXISTENZ_KOHORTE              703 non-null    int64  \n",
      " 11  KOHORTENGROESSE_INDEXIERT                 703 non-null    float64\n",
      " 12  IDENTIFIZIERTE_KUNDEN_INDEXIERT           703 non-null    float64\n",
      " 13  RABATT_INDEXIERT                          703 non-null    float64\n",
      " 14  retentionrate                             703 non-null    float64\n",
      "dtypes: float64(4), int64(9), object(2)\n",
      "memory usage: 82.5+ KB\n"
     ]
    }
   ],
   "source": [
    "data.info()"
   ]
  },
  {
   "cell_type": "markdown",
   "metadata": {},
   "source": [
    "#### Spaltenbezeichnungem umwandeln"
   ]
  },
  {
   "cell_type": "code",
   "execution_count": 21,
   "metadata": {},
   "outputs": [],
   "source": [
    "data.columns = data.columns.str.lower()"
   ]
  },
  {
   "cell_type": "code",
   "execution_count": 22,
   "metadata": {},
   "outputs": [
    {
     "name": "stdout",
     "output_type": "stream",
     "text": [
      "<class 'pandas.core.frame.DataFrame'>\n",
      "RangeIndex: 703 entries, 0 to 702\n",
      "Data columns (total 15 columns):\n",
      " #   Column                                    Non-Null Count  Dtype  \n",
      "---  ------                                    --------------  -----  \n",
      " 0   monate_seit_einfuehrung_programm_kohorte  703 non-null    int64  \n",
      " 1   monat                                     703 non-null    int64  \n",
      " 2   monat_jahr                                703 non-null    int64  \n",
      " 3   monat_monat                               703 non-null    int64  \n",
      " 4   monat_jahreszeit                          703 non-null    object \n",
      " 5   kohorte                                   703 non-null    int64  \n",
      " 6   kohorte_jahr                              703 non-null    int64  \n",
      " 7   kohorte_monat                             703 non-null    int64  \n",
      " 8   kohorte_jahreszeit                        703 non-null    object \n",
      " 9   erster_monat_kohorte_fg                   703 non-null    int64  \n",
      " 10  monate_seit_existenz_kohorte              703 non-null    int64  \n",
      " 11  kohortengroesse_indexiert                 703 non-null    float64\n",
      " 12  identifizierte_kunden_indexiert           703 non-null    float64\n",
      " 13  rabatt_indexiert                          703 non-null    float64\n",
      " 14  retentionrate                             703 non-null    float64\n",
      "dtypes: float64(4), int64(9), object(2)\n",
      "memory usage: 82.5+ KB\n"
     ]
    }
   ],
   "source": [
    "data.info()"
   ]
  },
  {
   "cell_type": "code",
   "execution_count": 23,
   "metadata": {},
   "outputs": [
    {
     "data": {
      "text/html": [
       "<div>\n",
       "<style scoped>\n",
       "    .dataframe tbody tr th:only-of-type {\n",
       "        vertical-align: middle;\n",
       "    }\n",
       "\n",
       "    .dataframe tbody tr th {\n",
       "        vertical-align: top;\n",
       "    }\n",
       "\n",
       "    .dataframe thead th {\n",
       "        text-align: right;\n",
       "    }\n",
       "</style>\n",
       "<table border=\"1\" class=\"dataframe\">\n",
       "  <thead>\n",
       "    <tr style=\"text-align: right;\">\n",
       "      <th></th>\n",
       "      <th>monate_seit_einfuehrung_programm_kohorte</th>\n",
       "      <th>monat</th>\n",
       "      <th>monat_jahr</th>\n",
       "      <th>monat_monat</th>\n",
       "      <th>monat_jahreszeit</th>\n",
       "      <th>kohorte</th>\n",
       "      <th>kohorte_jahr</th>\n",
       "      <th>kohorte_monat</th>\n",
       "      <th>kohorte_jahreszeit</th>\n",
       "      <th>erster_monat_kohorte_fg</th>\n",
       "      <th>monate_seit_existenz_kohorte</th>\n",
       "      <th>kohortengroesse_indexiert</th>\n",
       "      <th>identifizierte_kunden_indexiert</th>\n",
       "      <th>rabatt_indexiert</th>\n",
       "      <th>retentionrate</th>\n",
       "    </tr>\n",
       "  </thead>\n",
       "  <tbody>\n",
       "    <tr>\n",
       "      <th>0</th>\n",
       "      <td>-2</td>\n",
       "      <td>201408</td>\n",
       "      <td>2014</td>\n",
       "      <td>8</td>\n",
       "      <td>Sommer</td>\n",
       "      <td>201408</td>\n",
       "      <td>2014</td>\n",
       "      <td>8</td>\n",
       "      <td>Sommer</td>\n",
       "      <td>1</td>\n",
       "      <td>0</td>\n",
       "      <td>0.41</td>\n",
       "      <td>0.41</td>\n",
       "      <td>2.54</td>\n",
       "      <td>100.000000</td>\n",
       "    </tr>\n",
       "    <tr>\n",
       "      <th>1</th>\n",
       "      <td>-2</td>\n",
       "      <td>201409</td>\n",
       "      <td>2014</td>\n",
       "      <td>9</td>\n",
       "      <td>Herbst</td>\n",
       "      <td>201408</td>\n",
       "      <td>2014</td>\n",
       "      <td>8</td>\n",
       "      <td>Sommer</td>\n",
       "      <td>0</td>\n",
       "      <td>1</td>\n",
       "      <td>0.41</td>\n",
       "      <td>0.40</td>\n",
       "      <td>7.14</td>\n",
       "      <td>97.560976</td>\n",
       "    </tr>\n",
       "    <tr>\n",
       "      <th>2</th>\n",
       "      <td>-2</td>\n",
       "      <td>201410</td>\n",
       "      <td>2014</td>\n",
       "      <td>10</td>\n",
       "      <td>Herbst</td>\n",
       "      <td>201408</td>\n",
       "      <td>2014</td>\n",
       "      <td>8</td>\n",
       "      <td>Sommer</td>\n",
       "      <td>0</td>\n",
       "      <td>2</td>\n",
       "      <td>0.41</td>\n",
       "      <td>0.39</td>\n",
       "      <td>9.28</td>\n",
       "      <td>95.121951</td>\n",
       "    </tr>\n",
       "    <tr>\n",
       "      <th>3</th>\n",
       "      <td>-2</td>\n",
       "      <td>201411</td>\n",
       "      <td>2014</td>\n",
       "      <td>11</td>\n",
       "      <td>Herbst</td>\n",
       "      <td>201408</td>\n",
       "      <td>2014</td>\n",
       "      <td>8</td>\n",
       "      <td>Sommer</td>\n",
       "      <td>0</td>\n",
       "      <td>3</td>\n",
       "      <td>0.41</td>\n",
       "      <td>0.38</td>\n",
       "      <td>3.22</td>\n",
       "      <td>92.682927</td>\n",
       "    </tr>\n",
       "    <tr>\n",
       "      <th>4</th>\n",
       "      <td>-2</td>\n",
       "      <td>201412</td>\n",
       "      <td>2014</td>\n",
       "      <td>12</td>\n",
       "      <td>Winter</td>\n",
       "      <td>201408</td>\n",
       "      <td>2014</td>\n",
       "      <td>8</td>\n",
       "      <td>Sommer</td>\n",
       "      <td>0</td>\n",
       "      <td>4</td>\n",
       "      <td>0.41</td>\n",
       "      <td>0.38</td>\n",
       "      <td>7.15</td>\n",
       "      <td>92.682927</td>\n",
       "    </tr>\n",
       "  </tbody>\n",
       "</table>\n",
       "</div>"
      ],
      "text/plain": [
       "   monate_seit_einfuehrung_programm_kohorte   monat  monat_jahr  monat_monat  \\\n",
       "0                                        -2  201408        2014            8   \n",
       "1                                        -2  201409        2014            9   \n",
       "2                                        -2  201410        2014           10   \n",
       "3                                        -2  201411        2014           11   \n",
       "4                                        -2  201412        2014           12   \n",
       "\n",
       "  monat_jahreszeit  kohorte  kohorte_jahr  kohorte_monat kohorte_jahreszeit  \\\n",
       "0           Sommer   201408          2014              8             Sommer   \n",
       "1           Herbst   201408          2014              8             Sommer   \n",
       "2           Herbst   201408          2014              8             Sommer   \n",
       "3           Herbst   201408          2014              8             Sommer   \n",
       "4           Winter   201408          2014              8             Sommer   \n",
       "\n",
       "   erster_monat_kohorte_fg  monate_seit_existenz_kohorte  \\\n",
       "0                        1                             0   \n",
       "1                        0                             1   \n",
       "2                        0                             2   \n",
       "3                        0                             3   \n",
       "4                        0                             4   \n",
       "\n",
       "   kohortengroesse_indexiert  identifizierte_kunden_indexiert  \\\n",
       "0                       0.41                             0.41   \n",
       "1                       0.41                             0.40   \n",
       "2                       0.41                             0.39   \n",
       "3                       0.41                             0.38   \n",
       "4                       0.41                             0.38   \n",
       "\n",
       "   rabatt_indexiert  retentionrate  \n",
       "0              2.54     100.000000  \n",
       "1              7.14      97.560976  \n",
       "2              9.28      95.121951  \n",
       "3              3.22      92.682927  \n",
       "4              7.15      92.682927  "
      ]
     },
     "execution_count": 23,
     "metadata": {},
     "output_type": "execute_result"
    }
   ],
   "source": [
    "data.head()"
   ]
  },
  {
   "cell_type": "markdown",
   "metadata": {},
   "source": [
    "#### Umwandlung der Spaltenformate  \n",
    "Prinzipiell wurden von Python die Formate richtig gewählt. Für eine saubere Darstellung sollte allerdings die `erster_monat_kohorte_fg` in einen Boolean-Wert umgewandelt werden.  \n",
    "Ebenfalls werden die diskreten Spalten in einen String umgewandelt. Dies macht es in der späteren EDA einfacher, sich einen Überblick zu verschaffen mit z.B. der Funktion `describe`. Die ganzen Zeitangaben gelten zwar offiziell als numerische Werte. Allerdings ist es in diesem Kontext nicht sinnig mit diesen auch Rechenoperationen durchzuführen. Daher sollten sie eher als kategorische Variblen eingeordnet werden."
   ]
  },
  {
   "cell_type": "code",
   "execution_count": 24,
   "metadata": {},
   "outputs": [
    {
     "data": {
      "text/plain": [
       "Index(['monate_seit_einfuehrung_programm_kohorte', 'monat', 'monat_jahr',\n",
       "       'monat_monat', 'kohorte', 'kohorte_jahr', 'kohorte_monat',\n",
       "       'erster_monat_kohorte_fg', 'monate_seit_existenz_kohorte'],\n",
       "      dtype='object')"
      ]
     },
     "execution_count": 24,
     "metadata": {},
     "output_type": "execute_result"
    }
   ],
   "source": [
    "data.select_dtypes(include='int64').columns"
   ]
  },
  {
   "cell_type": "code",
   "execution_count": 25,
   "metadata": {},
   "outputs": [],
   "source": [
    "to_bool_cols = ['erster_monat_kohorte_fg']\n",
    "to_str_cols = ['monate_seit_einfuehrung_programm_kohorte', 'monat', 'monat_jahr',\n",
    "       'monat_monat', 'kohorte', 'kohorte_jahr', 'kohorte_monat', 'monate_seit_existenz_kohorte']"
   ]
  },
  {
   "cell_type": "code",
   "execution_count": 26,
   "metadata": {},
   "outputs": [],
   "source": [
    "# Konvertierung der Spalten in boolean \n",
    "for col in to_bool_cols: \n",
    "    data[col] = data[col].astype(bool) \n",
    "    \n",
    "# Konvertierung der Spalten in string \n",
    "for col in to_str_cols: \n",
    "    data[col] = data[col].astype(str)"
   ]
  },
  {
   "cell_type": "code",
   "execution_count": 27,
   "metadata": {},
   "outputs": [
    {
     "name": "stdout",
     "output_type": "stream",
     "text": [
      "<class 'pandas.core.frame.DataFrame'>\n",
      "RangeIndex: 703 entries, 0 to 702\n",
      "Data columns (total 15 columns):\n",
      " #   Column                                    Non-Null Count  Dtype  \n",
      "---  ------                                    --------------  -----  \n",
      " 0   monate_seit_einfuehrung_programm_kohorte  703 non-null    object \n",
      " 1   monat                                     703 non-null    object \n",
      " 2   monat_jahr                                703 non-null    object \n",
      " 3   monat_monat                               703 non-null    object \n",
      " 4   monat_jahreszeit                          703 non-null    object \n",
      " 5   kohorte                                   703 non-null    object \n",
      " 6   kohorte_jahr                              703 non-null    object \n",
      " 7   kohorte_monat                             703 non-null    object \n",
      " 8   kohorte_jahreszeit                        703 non-null    object \n",
      " 9   erster_monat_kohorte_fg                   703 non-null    bool   \n",
      " 10  monate_seit_existenz_kohorte              703 non-null    object \n",
      " 11  kohortengroesse_indexiert                 703 non-null    float64\n",
      " 12  identifizierte_kunden_indexiert           703 non-null    float64\n",
      " 13  rabatt_indexiert                          703 non-null    float64\n",
      " 14  retentionrate                             703 non-null    float64\n",
      "dtypes: bool(1), float64(4), object(10)\n",
      "memory usage: 77.7+ KB\n"
     ]
    }
   ],
   "source": [
    "data.info()"
   ]
  },
  {
   "cell_type": "code",
   "execution_count": 29,
   "metadata": {},
   "outputs": [
    {
     "data": {
      "text/html": [
       "<div>\n",
       "<style scoped>\n",
       "    .dataframe tbody tr th:only-of-type {\n",
       "        vertical-align: middle;\n",
       "    }\n",
       "\n",
       "    .dataframe tbody tr th {\n",
       "        vertical-align: top;\n",
       "    }\n",
       "\n",
       "    .dataframe thead th {\n",
       "        text-align: right;\n",
       "    }\n",
       "</style>\n",
       "<table border=\"1\" class=\"dataframe\">\n",
       "  <thead>\n",
       "    <tr style=\"text-align: right;\">\n",
       "      <th></th>\n",
       "      <th>monate_seit_einfuehrung_programm_kohorte</th>\n",
       "      <th>monat</th>\n",
       "      <th>monat_jahr</th>\n",
       "      <th>monat_monat</th>\n",
       "      <th>monat_jahreszeit</th>\n",
       "      <th>kohorte</th>\n",
       "      <th>kohorte_jahr</th>\n",
       "      <th>kohorte_monat</th>\n",
       "      <th>kohorte_jahreszeit</th>\n",
       "      <th>erster_monat_kohorte_fg</th>\n",
       "      <th>monate_seit_existenz_kohorte</th>\n",
       "      <th>kohortengroesse_indexiert</th>\n",
       "      <th>identifizierte_kunden_indexiert</th>\n",
       "      <th>rabatt_indexiert</th>\n",
       "      <th>retentionrate</th>\n",
       "    </tr>\n",
       "  </thead>\n",
       "  <tbody>\n",
       "    <tr>\n",
       "      <th>0</th>\n",
       "      <td>-2</td>\n",
       "      <td>201408</td>\n",
       "      <td>2014</td>\n",
       "      <td>8</td>\n",
       "      <td>Sommer</td>\n",
       "      <td>201408</td>\n",
       "      <td>2014</td>\n",
       "      <td>8</td>\n",
       "      <td>Sommer</td>\n",
       "      <td>True</td>\n",
       "      <td>0</td>\n",
       "      <td>0.41</td>\n",
       "      <td>0.41</td>\n",
       "      <td>2.54</td>\n",
       "      <td>100.000000</td>\n",
       "    </tr>\n",
       "    <tr>\n",
       "      <th>1</th>\n",
       "      <td>-2</td>\n",
       "      <td>201409</td>\n",
       "      <td>2014</td>\n",
       "      <td>9</td>\n",
       "      <td>Herbst</td>\n",
       "      <td>201408</td>\n",
       "      <td>2014</td>\n",
       "      <td>8</td>\n",
       "      <td>Sommer</td>\n",
       "      <td>False</td>\n",
       "      <td>1</td>\n",
       "      <td>0.41</td>\n",
       "      <td>0.40</td>\n",
       "      <td>7.14</td>\n",
       "      <td>97.560976</td>\n",
       "    </tr>\n",
       "    <tr>\n",
       "      <th>2</th>\n",
       "      <td>-2</td>\n",
       "      <td>201410</td>\n",
       "      <td>2014</td>\n",
       "      <td>10</td>\n",
       "      <td>Herbst</td>\n",
       "      <td>201408</td>\n",
       "      <td>2014</td>\n",
       "      <td>8</td>\n",
       "      <td>Sommer</td>\n",
       "      <td>False</td>\n",
       "      <td>2</td>\n",
       "      <td>0.41</td>\n",
       "      <td>0.39</td>\n",
       "      <td>9.28</td>\n",
       "      <td>95.121951</td>\n",
       "    </tr>\n",
       "    <tr>\n",
       "      <th>3</th>\n",
       "      <td>-2</td>\n",
       "      <td>201411</td>\n",
       "      <td>2014</td>\n",
       "      <td>11</td>\n",
       "      <td>Herbst</td>\n",
       "      <td>201408</td>\n",
       "      <td>2014</td>\n",
       "      <td>8</td>\n",
       "      <td>Sommer</td>\n",
       "      <td>False</td>\n",
       "      <td>3</td>\n",
       "      <td>0.41</td>\n",
       "      <td>0.38</td>\n",
       "      <td>3.22</td>\n",
       "      <td>92.682927</td>\n",
       "    </tr>\n",
       "    <tr>\n",
       "      <th>4</th>\n",
       "      <td>-2</td>\n",
       "      <td>201412</td>\n",
       "      <td>2014</td>\n",
       "      <td>12</td>\n",
       "      <td>Winter</td>\n",
       "      <td>201408</td>\n",
       "      <td>2014</td>\n",
       "      <td>8</td>\n",
       "      <td>Sommer</td>\n",
       "      <td>False</td>\n",
       "      <td>4</td>\n",
       "      <td>0.41</td>\n",
       "      <td>0.38</td>\n",
       "      <td>7.15</td>\n",
       "      <td>92.682927</td>\n",
       "    </tr>\n",
       "  </tbody>\n",
       "</table>\n",
       "</div>"
      ],
      "text/plain": [
       "  monate_seit_einfuehrung_programm_kohorte   monat monat_jahr monat_monat  \\\n",
       "0                                       -2  201408       2014           8   \n",
       "1                                       -2  201409       2014           9   \n",
       "2                                       -2  201410       2014          10   \n",
       "3                                       -2  201411       2014          11   \n",
       "4                                       -2  201412       2014          12   \n",
       "\n",
       "  monat_jahreszeit kohorte kohorte_jahr kohorte_monat kohorte_jahreszeit  \\\n",
       "0           Sommer  201408         2014             8             Sommer   \n",
       "1           Herbst  201408         2014             8             Sommer   \n",
       "2           Herbst  201408         2014             8             Sommer   \n",
       "3           Herbst  201408         2014             8             Sommer   \n",
       "4           Winter  201408         2014             8             Sommer   \n",
       "\n",
       "   erster_monat_kohorte_fg monate_seit_existenz_kohorte  \\\n",
       "0                     True                            0   \n",
       "1                    False                            1   \n",
       "2                    False                            2   \n",
       "3                    False                            3   \n",
       "4                    False                            4   \n",
       "\n",
       "   kohortengroesse_indexiert  identifizierte_kunden_indexiert  \\\n",
       "0                       0.41                             0.41   \n",
       "1                       0.41                             0.40   \n",
       "2                       0.41                             0.39   \n",
       "3                       0.41                             0.38   \n",
       "4                       0.41                             0.38   \n",
       "\n",
       "   rabatt_indexiert  retentionrate  \n",
       "0              2.54     100.000000  \n",
       "1              7.14      97.560976  \n",
       "2              9.28      95.121951  \n",
       "3              3.22      92.682927  \n",
       "4              7.15      92.682927  "
      ]
     },
     "execution_count": 29,
     "metadata": {},
     "output_type": "execute_result"
    }
   ],
   "source": [
    "data.head()"
   ]
  },
  {
   "cell_type": "markdown",
   "metadata": {},
   "source": [
    "#### Daten ablegen  \n",
    "Nun wird die neue Datengrundlage in den Ordner processed abgelegt."
   ]
  },
  {
   "cell_type": "code",
   "execution_count": 32,
   "metadata": {},
   "outputs": [],
   "source": [
    "path_data_new = 'https://raw.githubusercontent.com/mm391-030401/project/refs/heads/main/data/processed/'\n",
    "file_data_new = 'data_final.csv'\n",
    "\n",
    "data.to_csv(path_data_new + file_data_new, index = False)"
   ]
  },
  {
   "cell_type": "code",
   "execution_count": null,
   "metadata": {},
   "outputs": [],
   "source": []
  }
 ],
 "metadata": {
  "kernelspec": {
   "display_name": "analytics",
   "language": "python",
   "name": "python3"
  },
  "language_info": {
   "codemirror_mode": {
    "name": "ipython",
    "version": 3
   },
   "file_extension": ".py",
   "mimetype": "text/x-python",
   "name": "python",
   "nbconvert_exporter": "python",
   "pygments_lexer": "ipython3",
   "version": "3.12.7"
  }
 },
 "nbformat": 4,
 "nbformat_minor": 2
}
