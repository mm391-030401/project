{
 "cells": [
  {
   "cell_type": "markdown",
   "metadata": {},
   "source": [
    "### Feature Engineering  \n",
    "In diesem Notebook wird die **raw** CSV \"data\" um weitere Spalten ergänzt, die möglicherweise weitere Predictors sein könnten."
   ]
  },
  {
   "cell_type": "markdown",
   "metadata": {},
   "source": [
    "#### Imports"
   ]
  },
  {
   "cell_type": "code",
   "execution_count": 1,
   "metadata": {},
   "outputs": [],
   "source": [
    "import pandas as pd\n",
    "\n",
    "\n",
    "import importlib\n",
    "import utils\n",
    "# Cache-Probleme umgehen\n",
    "importlib.reload(utils)\n",
    "from utils import left\n",
    "from utils import right\n",
    "from utils import get_season\n",
    "from utils import rearrange_col"
   ]
  },
  {
   "cell_type": "markdown",
   "metadata": {},
   "source": [
    "#### Daten laden"
   ]
  },
  {
   "cell_type": "code",
   "execution_count": 32,
   "metadata": {},
   "outputs": [],
   "source": [
    "path_data = 'https://raw.githubusercontent.com/mm391-030401/project/refs/heads/main/data/raw/'\n",
    "file_data = 'data.csv'\n",
    "\n",
    "data = pd.read_csv(path_data + file_data, sep=',', encoding='utf-8')"
   ]
  },
  {
   "cell_type": "markdown",
   "metadata": {},
   "source": [
    "#### Überblick über raw-data"
   ]
  },
  {
   "cell_type": "code",
   "execution_count": 33,
   "metadata": {},
   "outputs": [
    {
     "data": {
      "text/html": [
       "<div>\n",
       "<style scoped>\n",
       "    .dataframe tbody tr th:only-of-type {\n",
       "        vertical-align: middle;\n",
       "    }\n",
       "\n",
       "    .dataframe tbody tr th {\n",
       "        vertical-align: top;\n",
       "    }\n",
       "\n",
       "    .dataframe thead th {\n",
       "        text-align: right;\n",
       "    }\n",
       "</style>\n",
       "<table border=\"1\" class=\"dataframe\">\n",
       "  <thead>\n",
       "    <tr style=\"text-align: right;\">\n",
       "      <th></th>\n",
       "      <th>MONATE_SEIT_EINFUEHRUNG_PROGRAMM_KOHORTE</th>\n",
       "      <th>MONAT</th>\n",
       "      <th>KOHORTE</th>\n",
       "      <th>ERSTER_MONAT_KOHORTE_FG</th>\n",
       "      <th>MONATE_SEIT_EXISTENZ_KOHORTE</th>\n",
       "      <th>KOHORTENGROESSE_INDEXIERT</th>\n",
       "      <th>IDENTIFIZIERTE_KUNDEN_INDEXIERT</th>\n",
       "      <th>RABATT_INDEXIERT</th>\n",
       "    </tr>\n",
       "  </thead>\n",
       "  <tbody>\n",
       "    <tr>\n",
       "      <th>0</th>\n",
       "      <td>-2</td>\n",
       "      <td>201408</td>\n",
       "      <td>201408</td>\n",
       "      <td>1</td>\n",
       "      <td>0</td>\n",
       "      <td>0.41</td>\n",
       "      <td>0.41</td>\n",
       "      <td>2.54</td>\n",
       "    </tr>\n",
       "    <tr>\n",
       "      <th>1</th>\n",
       "      <td>-2</td>\n",
       "      <td>201409</td>\n",
       "      <td>201408</td>\n",
       "      <td>0</td>\n",
       "      <td>1</td>\n",
       "      <td>0.41</td>\n",
       "      <td>0.40</td>\n",
       "      <td>7.14</td>\n",
       "    </tr>\n",
       "    <tr>\n",
       "      <th>2</th>\n",
       "      <td>-2</td>\n",
       "      <td>201410</td>\n",
       "      <td>201408</td>\n",
       "      <td>0</td>\n",
       "      <td>2</td>\n",
       "      <td>0.41</td>\n",
       "      <td>0.39</td>\n",
       "      <td>9.28</td>\n",
       "    </tr>\n",
       "    <tr>\n",
       "      <th>3</th>\n",
       "      <td>-2</td>\n",
       "      <td>201411</td>\n",
       "      <td>201408</td>\n",
       "      <td>0</td>\n",
       "      <td>3</td>\n",
       "      <td>0.41</td>\n",
       "      <td>0.38</td>\n",
       "      <td>3.22</td>\n",
       "    </tr>\n",
       "    <tr>\n",
       "      <th>4</th>\n",
       "      <td>-2</td>\n",
       "      <td>201412</td>\n",
       "      <td>201408</td>\n",
       "      <td>0</td>\n",
       "      <td>4</td>\n",
       "      <td>0.41</td>\n",
       "      <td>0.38</td>\n",
       "      <td>7.15</td>\n",
       "    </tr>\n",
       "  </tbody>\n",
       "</table>\n",
       "</div>"
      ],
      "text/plain": [
       "   MONATE_SEIT_EINFUEHRUNG_PROGRAMM_KOHORTE   MONAT  KOHORTE  \\\n",
       "0                                        -2  201408   201408   \n",
       "1                                        -2  201409   201408   \n",
       "2                                        -2  201410   201408   \n",
       "3                                        -2  201411   201408   \n",
       "4                                        -2  201412   201408   \n",
       "\n",
       "   ERSTER_MONAT_KOHORTE_FG  MONATE_SEIT_EXISTENZ_KOHORTE  \\\n",
       "0                        1                             0   \n",
       "1                        0                             1   \n",
       "2                        0                             2   \n",
       "3                        0                             3   \n",
       "4                        0                             4   \n",
       "\n",
       "   KOHORTENGROESSE_INDEXIERT  IDENTIFIZIERTE_KUNDEN_INDEXIERT  \\\n",
       "0                       0.41                             0.41   \n",
       "1                       0.41                             0.40   \n",
       "2                       0.41                             0.39   \n",
       "3                       0.41                             0.38   \n",
       "4                       0.41                             0.38   \n",
       "\n",
       "   RABATT_INDEXIERT  \n",
       "0              2.54  \n",
       "1              7.14  \n",
       "2              9.28  \n",
       "3              3.22  \n",
       "4              7.15  "
      ]
     },
     "execution_count": 33,
     "metadata": {},
     "output_type": "execute_result"
    }
   ],
   "source": [
    "data.head()"
   ]
  },
  {
   "cell_type": "code",
   "execution_count": 34,
   "metadata": {},
   "outputs": [
    {
     "data": {
      "text/plain": [
       "Index(['MONATE_SEIT_EINFUEHRUNG_PROGRAMM_KOHORTE', 'MONAT', 'KOHORTE',\n",
       "       'ERSTER_MONAT_KOHORTE_FG', 'MONATE_SEIT_EXISTENZ_KOHORTE',\n",
       "       'KOHORTENGROESSE_INDEXIERT', 'IDENTIFIZIERTE_KUNDEN_INDEXIERT',\n",
       "       'RABATT_INDEXIERT'],\n",
       "      dtype='object')"
      ]
     },
     "execution_count": 34,
     "metadata": {},
     "output_type": "execute_result"
    }
   ],
   "source": [
    "data.columns"
   ]
  },
  {
   "cell_type": "code",
   "execution_count": 35,
   "metadata": {},
   "outputs": [
    {
     "name": "stdout",
     "output_type": "stream",
     "text": [
      "<class 'pandas.core.frame.DataFrame'>\n",
      "RangeIndex: 703 entries, 0 to 702\n",
      "Data columns (total 8 columns):\n",
      " #   Column                                    Non-Null Count  Dtype  \n",
      "---  ------                                    --------------  -----  \n",
      " 0   MONATE_SEIT_EINFUEHRUNG_PROGRAMM_KOHORTE  703 non-null    int64  \n",
      " 1   MONAT                                     703 non-null    int64  \n",
      " 2   KOHORTE                                   703 non-null    int64  \n",
      " 3   ERSTER_MONAT_KOHORTE_FG                   703 non-null    int64  \n",
      " 4   MONATE_SEIT_EXISTENZ_KOHORTE              703 non-null    int64  \n",
      " 5   KOHORTENGROESSE_INDEXIERT                 703 non-null    float64\n",
      " 6   IDENTIFIZIERTE_KUNDEN_INDEXIERT           703 non-null    float64\n",
      " 7   RABATT_INDEXIERT                          703 non-null    float64\n",
      "dtypes: float64(3), int64(5)\n",
      "memory usage: 44.1 KB\n"
     ]
    }
   ],
   "source": [
    "data.info()"
   ]
  },
  {
   "cell_type": "markdown",
   "metadata": {},
   "source": [
    "#### Feature Engineering  \n",
    "Nach Betrachtung der vorhandenen Spalten werden weitere Zeitvariablen als sinnvoll erachtet. Aktuell werden der Monat sowie die Kohorte im Format JJJJMM angegeben.  \n",
    "Damit das Modell Saisonalitäten zur Jahreszeit, zum Monat sowie einen allgemeinen Trend bei zunehmender Jahreszahl erkennen kann, werden die Spalten `Monat` und `Kohorte` in weitere Zeitvariblen zerlegt."
   ]
  },
  {
   "cell_type": "markdown",
   "metadata": {},
   "source": [
    "Um die Werte in den Spalten zerlegen zu können, werden zwei Funktionen verwendet.  \n",
    "- `left()` gibt den linken Part eines Werts aus. In der Funktion kann definiert werden, wie viele Zeichen des linken Parts ausgegeben werden.  \n",
    "- `right()` gibt den rechten Part eines Werts aus. In der Funktion kann definiert werden, wie viele Zeichen des rechten Parts ausgegeben werden.  "
   ]
  },
  {
   "cell_type": "code",
   "execution_count": 38,
   "metadata": {},
   "outputs": [],
   "source": [
    "data['monat_jahr'] = data['MONAT'].astype(str).apply(lambda x: left(x)).astype(int)\n",
    "data['monat_monat'] = data['MONAT'].astype(str).apply(lambda x: right(x)).astype(int)\n",
    "\n",
    "data['kohorte_jahr'] = data['KOHORTE'].astype(str).apply(lambda x: left(x)).astype(int)\n",
    "data['kohorte_monat'] = data['KOHORTE'].astype(str).apply(lambda x: right(x)).astype(int)"
   ]
  },
  {
   "cell_type": "code",
   "execution_count": 39,
   "metadata": {},
   "outputs": [
    {
     "data": {
      "text/html": [
       "<div>\n",
       "<style scoped>\n",
       "    .dataframe tbody tr th:only-of-type {\n",
       "        vertical-align: middle;\n",
       "    }\n",
       "\n",
       "    .dataframe tbody tr th {\n",
       "        vertical-align: top;\n",
       "    }\n",
       "\n",
       "    .dataframe thead th {\n",
       "        text-align: right;\n",
       "    }\n",
       "</style>\n",
       "<table border=\"1\" class=\"dataframe\">\n",
       "  <thead>\n",
       "    <tr style=\"text-align: right;\">\n",
       "      <th></th>\n",
       "      <th>MONAT</th>\n",
       "      <th>monat_jahr</th>\n",
       "      <th>monat_monat</th>\n",
       "      <th>KOHORTE</th>\n",
       "      <th>kohorte_jahr</th>\n",
       "      <th>kohorte_monat</th>\n",
       "    </tr>\n",
       "  </thead>\n",
       "  <tbody>\n",
       "    <tr>\n",
       "      <th>0</th>\n",
       "      <td>201408</td>\n",
       "      <td>2014</td>\n",
       "      <td>8</td>\n",
       "      <td>201408</td>\n",
       "      <td>2014</td>\n",
       "      <td>8</td>\n",
       "    </tr>\n",
       "    <tr>\n",
       "      <th>1</th>\n",
       "      <td>201409</td>\n",
       "      <td>2014</td>\n",
       "      <td>9</td>\n",
       "      <td>201408</td>\n",
       "      <td>2014</td>\n",
       "      <td>8</td>\n",
       "    </tr>\n",
       "    <tr>\n",
       "      <th>2</th>\n",
       "      <td>201410</td>\n",
       "      <td>2014</td>\n",
       "      <td>10</td>\n",
       "      <td>201408</td>\n",
       "      <td>2014</td>\n",
       "      <td>8</td>\n",
       "    </tr>\n",
       "    <tr>\n",
       "      <th>3</th>\n",
       "      <td>201411</td>\n",
       "      <td>2014</td>\n",
       "      <td>11</td>\n",
       "      <td>201408</td>\n",
       "      <td>2014</td>\n",
       "      <td>8</td>\n",
       "    </tr>\n",
       "    <tr>\n",
       "      <th>4</th>\n",
       "      <td>201412</td>\n",
       "      <td>2014</td>\n",
       "      <td>12</td>\n",
       "      <td>201408</td>\n",
       "      <td>2014</td>\n",
       "      <td>8</td>\n",
       "    </tr>\n",
       "  </tbody>\n",
       "</table>\n",
       "</div>"
      ],
      "text/plain": [
       "    MONAT  monat_jahr  monat_monat  KOHORTE  kohorte_jahr  kohorte_monat\n",
       "0  201408        2014            8   201408          2014              8\n",
       "1  201409        2014            9   201408          2014              8\n",
       "2  201410        2014           10   201408          2014              8\n",
       "3  201411        2014           11   201408          2014              8\n",
       "4  201412        2014           12   201408          2014              8"
      ]
     },
     "execution_count": 39,
     "metadata": {},
     "output_type": "execute_result"
    }
   ],
   "source": [
    "# Überprüfung, ob Funktionen richtig funktioniert haben\n",
    "data[['MONAT', 'monat_jahr', 'monat_monat', 'KOHORTE', 'kohorte_jahr', 'kohorte_monat']].head()"
   ]
  },
  {
   "cell_type": "markdown",
   "metadata": {},
   "source": [
    "Um die Jahreszeiten zu bestimmen wird eine einfache Aufteilung der Monate in Jahreszeiten angenommen (z.B. Dezemeber bis Februar entspricht Winter)."
   ]
  },
  {
   "cell_type": "code",
   "execution_count": 41,
   "metadata": {},
   "outputs": [],
   "source": [
    "data['monat_jahreszeit'] = data['monat_monat'].apply(lambda x: get_season(x))\n",
    "\n",
    "data['kohorte_jahreszeit'] = data['kohorte_monat'].apply(lambda x: get_season(x))"
   ]
  },
  {
   "cell_type": "code",
   "execution_count": 42,
   "metadata": {},
   "outputs": [
    {
     "data": {
      "text/html": [
       "<div>\n",
       "<style scoped>\n",
       "    .dataframe tbody tr th:only-of-type {\n",
       "        vertical-align: middle;\n",
       "    }\n",
       "\n",
       "    .dataframe tbody tr th {\n",
       "        vertical-align: top;\n",
       "    }\n",
       "\n",
       "    .dataframe thead th {\n",
       "        text-align: right;\n",
       "    }\n",
       "</style>\n",
       "<table border=\"1\" class=\"dataframe\">\n",
       "  <thead>\n",
       "    <tr style=\"text-align: right;\">\n",
       "      <th></th>\n",
       "      <th>monat_monat</th>\n",
       "      <th>monat_jahreszeit</th>\n",
       "      <th>kohorte_monat</th>\n",
       "      <th>kohorte_jahreszeit</th>\n",
       "    </tr>\n",
       "  </thead>\n",
       "  <tbody>\n",
       "    <tr>\n",
       "      <th>0</th>\n",
       "      <td>8</td>\n",
       "      <td>Sommer</td>\n",
       "      <td>8</td>\n",
       "      <td>Sommer</td>\n",
       "    </tr>\n",
       "    <tr>\n",
       "      <th>1</th>\n",
       "      <td>9</td>\n",
       "      <td>Herbst</td>\n",
       "      <td>8</td>\n",
       "      <td>Sommer</td>\n",
       "    </tr>\n",
       "    <tr>\n",
       "      <th>2</th>\n",
       "      <td>10</td>\n",
       "      <td>Herbst</td>\n",
       "      <td>8</td>\n",
       "      <td>Sommer</td>\n",
       "    </tr>\n",
       "    <tr>\n",
       "      <th>3</th>\n",
       "      <td>11</td>\n",
       "      <td>Herbst</td>\n",
       "      <td>8</td>\n",
       "      <td>Sommer</td>\n",
       "    </tr>\n",
       "    <tr>\n",
       "      <th>4</th>\n",
       "      <td>12</td>\n",
       "      <td>Winter</td>\n",
       "      <td>8</td>\n",
       "      <td>Sommer</td>\n",
       "    </tr>\n",
       "  </tbody>\n",
       "</table>\n",
       "</div>"
      ],
      "text/plain": [
       "   monat_monat monat_jahreszeit  kohorte_monat kohorte_jahreszeit\n",
       "0            8           Sommer              8             Sommer\n",
       "1            9           Herbst              8             Sommer\n",
       "2           10           Herbst              8             Sommer\n",
       "3           11           Herbst              8             Sommer\n",
       "4           12           Winter              8             Sommer"
      ]
     },
     "execution_count": 42,
     "metadata": {},
     "output_type": "execute_result"
    }
   ],
   "source": [
    "# Überprüfung, ob Funktionen richtig funktioniert haben\n",
    "data[['monat_monat', 'monat_jahreszeit', 'kohorte_monat', 'kohorte_jahreszeit']].head()"
   ]
  },
  {
   "cell_type": "markdown",
   "metadata": {},
   "source": [
    "Die neu generieten Spalten stehen nun am Ende des Dataframes. Um dies übersichtlich zu gestalten, werden die Spalten entsprechend umgeordnet."
   ]
  },
  {
   "cell_type": "code",
   "execution_count": 44,
   "metadata": {},
   "outputs": [],
   "source": [
    "data = rearrange_col(data, 'MONAT', ['monat_jahr', 'monat_monat', 'monat_jahreszeit'])\n",
    "data = rearrange_col(data, 'KOHORTE', ['kohorte_jahr', 'kohorte_monat', 'kohorte_jahreszeit'])"
   ]
  },
  {
   "cell_type": "markdown",
   "metadata": {},
   "source": [
    "Aus der Kohortengröße und den identifizierten Kunden wird die Retentionrate jeder Kohorte je Monat berechnet."
   ]
  },
  {
   "cell_type": "code",
   "execution_count": 45,
   "metadata": {},
   "outputs": [],
   "source": [
    "data['retentionrate'] = data['IDENTIFIZIERTE_KUNDEN_INDEXIERT'] / data['KOHORTENGROESSE_INDEXIERT'] * 100"
   ]
  },
  {
   "cell_type": "code",
   "execution_count": 46,
   "metadata": {},
   "outputs": [
    {
     "name": "stdout",
     "output_type": "stream",
     "text": [
      "<class 'pandas.core.frame.DataFrame'>\n",
      "RangeIndex: 703 entries, 0 to 702\n",
      "Data columns (total 15 columns):\n",
      " #   Column                                    Non-Null Count  Dtype  \n",
      "---  ------                                    --------------  -----  \n",
      " 0   MONATE_SEIT_EINFUEHRUNG_PROGRAMM_KOHORTE  703 non-null    int64  \n",
      " 1   MONAT                                     703 non-null    int64  \n",
      " 2   monat_jahr                                703 non-null    int64  \n",
      " 3   monat_monat                               703 non-null    int64  \n",
      " 4   monat_jahreszeit                          703 non-null    object \n",
      " 5   KOHORTE                                   703 non-null    int64  \n",
      " 6   kohorte_jahr                              703 non-null    int64  \n",
      " 7   kohorte_monat                             703 non-null    int64  \n",
      " 8   kohorte_jahreszeit                        703 non-null    object \n",
      " 9   ERSTER_MONAT_KOHORTE_FG                   703 non-null    int64  \n",
      " 10  MONATE_SEIT_EXISTENZ_KOHORTE              703 non-null    int64  \n",
      " 11  KOHORTENGROESSE_INDEXIERT                 703 non-null    float64\n",
      " 12  IDENTIFIZIERTE_KUNDEN_INDEXIERT           703 non-null    float64\n",
      " 13  RABATT_INDEXIERT                          703 non-null    float64\n",
      " 14  retentionrate                             703 non-null    float64\n",
      "dtypes: float64(4), int64(9), object(2)\n",
      "memory usage: 82.5+ KB\n"
     ]
    }
   ],
   "source": [
    "data.info()"
   ]
  },
  {
   "cell_type": "code",
   "execution_count": 47,
   "metadata": {},
   "outputs": [
    {
     "data": {
      "text/html": [
       "<div>\n",
       "<style scoped>\n",
       "    .dataframe tbody tr th:only-of-type {\n",
       "        vertical-align: middle;\n",
       "    }\n",
       "\n",
       "    .dataframe tbody tr th {\n",
       "        vertical-align: top;\n",
       "    }\n",
       "\n",
       "    .dataframe thead th {\n",
       "        text-align: right;\n",
       "    }\n",
       "</style>\n",
       "<table border=\"1\" class=\"dataframe\">\n",
       "  <thead>\n",
       "    <tr style=\"text-align: right;\">\n",
       "      <th></th>\n",
       "      <th>MONATE_SEIT_EINFUEHRUNG_PROGRAMM_KOHORTE</th>\n",
       "      <th>MONAT</th>\n",
       "      <th>monat_jahr</th>\n",
       "      <th>monat_monat</th>\n",
       "      <th>monat_jahreszeit</th>\n",
       "      <th>KOHORTE</th>\n",
       "      <th>kohorte_jahr</th>\n",
       "      <th>kohorte_monat</th>\n",
       "      <th>kohorte_jahreszeit</th>\n",
       "      <th>ERSTER_MONAT_KOHORTE_FG</th>\n",
       "      <th>MONATE_SEIT_EXISTENZ_KOHORTE</th>\n",
       "      <th>KOHORTENGROESSE_INDEXIERT</th>\n",
       "      <th>IDENTIFIZIERTE_KUNDEN_INDEXIERT</th>\n",
       "      <th>RABATT_INDEXIERT</th>\n",
       "      <th>retentionrate</th>\n",
       "    </tr>\n",
       "  </thead>\n",
       "  <tbody>\n",
       "    <tr>\n",
       "      <th>0</th>\n",
       "      <td>-2</td>\n",
       "      <td>201408</td>\n",
       "      <td>2014</td>\n",
       "      <td>8</td>\n",
       "      <td>Sommer</td>\n",
       "      <td>201408</td>\n",
       "      <td>2014</td>\n",
       "      <td>8</td>\n",
       "      <td>Sommer</td>\n",
       "      <td>1</td>\n",
       "      <td>0</td>\n",
       "      <td>0.41</td>\n",
       "      <td>0.41</td>\n",
       "      <td>2.54</td>\n",
       "      <td>100.000000</td>\n",
       "    </tr>\n",
       "    <tr>\n",
       "      <th>1</th>\n",
       "      <td>-2</td>\n",
       "      <td>201409</td>\n",
       "      <td>2014</td>\n",
       "      <td>9</td>\n",
       "      <td>Herbst</td>\n",
       "      <td>201408</td>\n",
       "      <td>2014</td>\n",
       "      <td>8</td>\n",
       "      <td>Sommer</td>\n",
       "      <td>0</td>\n",
       "      <td>1</td>\n",
       "      <td>0.41</td>\n",
       "      <td>0.40</td>\n",
       "      <td>7.14</td>\n",
       "      <td>97.560976</td>\n",
       "    </tr>\n",
       "    <tr>\n",
       "      <th>2</th>\n",
       "      <td>-2</td>\n",
       "      <td>201410</td>\n",
       "      <td>2014</td>\n",
       "      <td>10</td>\n",
       "      <td>Herbst</td>\n",
       "      <td>201408</td>\n",
       "      <td>2014</td>\n",
       "      <td>8</td>\n",
       "      <td>Sommer</td>\n",
       "      <td>0</td>\n",
       "      <td>2</td>\n",
       "      <td>0.41</td>\n",
       "      <td>0.39</td>\n",
       "      <td>9.28</td>\n",
       "      <td>95.121951</td>\n",
       "    </tr>\n",
       "    <tr>\n",
       "      <th>3</th>\n",
       "      <td>-2</td>\n",
       "      <td>201411</td>\n",
       "      <td>2014</td>\n",
       "      <td>11</td>\n",
       "      <td>Herbst</td>\n",
       "      <td>201408</td>\n",
       "      <td>2014</td>\n",
       "      <td>8</td>\n",
       "      <td>Sommer</td>\n",
       "      <td>0</td>\n",
       "      <td>3</td>\n",
       "      <td>0.41</td>\n",
       "      <td>0.38</td>\n",
       "      <td>3.22</td>\n",
       "      <td>92.682927</td>\n",
       "    </tr>\n",
       "    <tr>\n",
       "      <th>4</th>\n",
       "      <td>-2</td>\n",
       "      <td>201412</td>\n",
       "      <td>2014</td>\n",
       "      <td>12</td>\n",
       "      <td>Winter</td>\n",
       "      <td>201408</td>\n",
       "      <td>2014</td>\n",
       "      <td>8</td>\n",
       "      <td>Sommer</td>\n",
       "      <td>0</td>\n",
       "      <td>4</td>\n",
       "      <td>0.41</td>\n",
       "      <td>0.38</td>\n",
       "      <td>7.15</td>\n",
       "      <td>92.682927</td>\n",
       "    </tr>\n",
       "  </tbody>\n",
       "</table>\n",
       "</div>"
      ],
      "text/plain": [
       "   MONATE_SEIT_EINFUEHRUNG_PROGRAMM_KOHORTE   MONAT  monat_jahr  monat_monat  \\\n",
       "0                                        -2  201408        2014            8   \n",
       "1                                        -2  201409        2014            9   \n",
       "2                                        -2  201410        2014           10   \n",
       "3                                        -2  201411        2014           11   \n",
       "4                                        -2  201412        2014           12   \n",
       "\n",
       "  monat_jahreszeit  KOHORTE  kohorte_jahr  kohorte_monat kohorte_jahreszeit  \\\n",
       "0           Sommer   201408          2014              8             Sommer   \n",
       "1           Herbst   201408          2014              8             Sommer   \n",
       "2           Herbst   201408          2014              8             Sommer   \n",
       "3           Herbst   201408          2014              8             Sommer   \n",
       "4           Winter   201408          2014              8             Sommer   \n",
       "\n",
       "   ERSTER_MONAT_KOHORTE_FG  MONATE_SEIT_EXISTENZ_KOHORTE  \\\n",
       "0                        1                             0   \n",
       "1                        0                             1   \n",
       "2                        0                             2   \n",
       "3                        0                             3   \n",
       "4                        0                             4   \n",
       "\n",
       "   KOHORTENGROESSE_INDEXIERT  IDENTIFIZIERTE_KUNDEN_INDEXIERT  \\\n",
       "0                       0.41                             0.41   \n",
       "1                       0.41                             0.40   \n",
       "2                       0.41                             0.39   \n",
       "3                       0.41                             0.38   \n",
       "4                       0.41                             0.38   \n",
       "\n",
       "   RABATT_INDEXIERT  retentionrate  \n",
       "0              2.54     100.000000  \n",
       "1              7.14      97.560976  \n",
       "2              9.28      95.121951  \n",
       "3              3.22      92.682927  \n",
       "4              7.15      92.682927  "
      ]
     },
     "execution_count": 47,
     "metadata": {},
     "output_type": "execute_result"
    }
   ],
   "source": [
    "data.head()"
   ]
  },
  {
   "cell_type": "markdown",
   "metadata": {},
   "source": [
    "#### Daten ablegen\n",
    "Nun wird die neue Datengrundlage in den Ordner interim abgelegt"
   ]
  },
  {
   "cell_type": "code",
   "execution_count": 53,
   "metadata": {},
   "outputs": [],
   "source": [
    "path_data_new = 'https://raw.githubusercontent.com/mm391-030401/project/refs/heads/main/data/interim/'\n",
    "file_data_new = 'data_added_features.csv'\n",
    "\n",
    "data.to_csv(path_data_new + file_data_new, index = False)"
   ]
  },
  {
   "cell_type": "code",
   "execution_count": null,
   "metadata": {},
   "outputs": [],
   "source": []
  }
 ],
 "metadata": {
  "kernelspec": {
   "display_name": "analytics",
   "language": "python",
   "name": "python3"
  },
  "language_info": {
   "codemirror_mode": {
    "name": "ipython",
    "version": 3
   },
   "file_extension": ".py",
   "mimetype": "text/x-python",
   "name": "python",
   "nbconvert_exporter": "python",
   "pygments_lexer": "ipython3",
   "version": "3.12.7"
  }
 },
 "nbformat": 4,
 "nbformat_minor": 2
}
